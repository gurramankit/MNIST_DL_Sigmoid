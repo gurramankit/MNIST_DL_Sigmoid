{
  "nbformat": 4,
  "nbformat_minor": 0,
  "metadata": {
    "colab": {
      "provenance": [],
      "gpuType": "T4"
    },
    "kernelspec": {
      "name": "python3",
      "display_name": "Python 3"
    },
    "language_info": {
      "name": "python"
    },
    "accelerator": "GPU"
  },
  "cells": [
    {
      "cell_type": "code",
      "execution_count": 3,
      "metadata": {
        "id": "t35jex0cnIDD"
      },
      "outputs": [],
      "source": [
        "import torchvision\n",
        "import torch"
      ]
    },
    {
      "cell_type": "code",
      "source": [
        "train_dataset = torchvision.datasets.MNIST(root='/content/dl_class', train=True, download=True)\n",
        "train_dataset = torchvision.datasets.MNIST(root='/content/dl_class', train=False, download=True)"
      ],
      "metadata": {
        "id": "07_HkslFoRgt",
        "colab": {
          "base_uri": "https://localhost:8080/"
        },
        "outputId": "7a145828-fafd-40c7-c6ab-b51f8e963edd"
      },
      "execution_count": 4,
      "outputs": [
        {
          "output_type": "stream",
          "name": "stdout",
          "text": [
            "Downloading http://yann.lecun.com/exdb/mnist/train-images-idx3-ubyte.gz\n",
            "Failed to download (trying next):\n",
            "<urlopen error [SSL: CERTIFICATE_VERIFY_FAILED] certificate verify failed: certificate has expired (_ssl.c:1007)>\n",
            "\n",
            "Downloading https://ossci-datasets.s3.amazonaws.com/mnist/train-images-idx3-ubyte.gz\n",
            "Downloading https://ossci-datasets.s3.amazonaws.com/mnist/train-images-idx3-ubyte.gz to /content/dl_class/MNIST/raw/train-images-idx3-ubyte.gz\n"
          ]
        },
        {
          "output_type": "stream",
          "name": "stderr",
          "text": [
            "100%|██████████| 9.91M/9.91M [00:00<00:00, 17.2MB/s]\n"
          ]
        },
        {
          "output_type": "stream",
          "name": "stdout",
          "text": [
            "Extracting /content/dl_class/MNIST/raw/train-images-idx3-ubyte.gz to /content/dl_class/MNIST/raw\n",
            "\n",
            "Downloading http://yann.lecun.com/exdb/mnist/train-labels-idx1-ubyte.gz\n",
            "Failed to download (trying next):\n",
            "<urlopen error [SSL: CERTIFICATE_VERIFY_FAILED] certificate verify failed: certificate has expired (_ssl.c:1007)>\n",
            "\n",
            "Downloading https://ossci-datasets.s3.amazonaws.com/mnist/train-labels-idx1-ubyte.gz\n",
            "Downloading https://ossci-datasets.s3.amazonaws.com/mnist/train-labels-idx1-ubyte.gz to /content/dl_class/MNIST/raw/train-labels-idx1-ubyte.gz\n"
          ]
        },
        {
          "output_type": "stream",
          "name": "stderr",
          "text": [
            "100%|██████████| 28.9k/28.9k [00:00<00:00, 482kB/s]\n"
          ]
        },
        {
          "output_type": "stream",
          "name": "stdout",
          "text": [
            "Extracting /content/dl_class/MNIST/raw/train-labels-idx1-ubyte.gz to /content/dl_class/MNIST/raw\n",
            "\n",
            "Downloading http://yann.lecun.com/exdb/mnist/t10k-images-idx3-ubyte.gz\n",
            "Failed to download (trying next):\n",
            "<urlopen error [SSL: CERTIFICATE_VERIFY_FAILED] certificate verify failed: certificate has expired (_ssl.c:1007)>\n",
            "\n",
            "Downloading https://ossci-datasets.s3.amazonaws.com/mnist/t10k-images-idx3-ubyte.gz\n",
            "Downloading https://ossci-datasets.s3.amazonaws.com/mnist/t10k-images-idx3-ubyte.gz to /content/dl_class/MNIST/raw/t10k-images-idx3-ubyte.gz\n"
          ]
        },
        {
          "output_type": "stream",
          "name": "stderr",
          "text": [
            "100%|██████████| 1.65M/1.65M [00:00<00:00, 4.47MB/s]\n"
          ]
        },
        {
          "output_type": "stream",
          "name": "stdout",
          "text": [
            "Extracting /content/dl_class/MNIST/raw/t10k-images-idx3-ubyte.gz to /content/dl_class/MNIST/raw\n",
            "\n",
            "Downloading http://yann.lecun.com/exdb/mnist/t10k-labels-idx1-ubyte.gz\n",
            "Failed to download (trying next):\n",
            "<urlopen error [SSL: CERTIFICATE_VERIFY_FAILED] certificate verify failed: certificate has expired (_ssl.c:1007)>\n",
            "\n",
            "Downloading https://ossci-datasets.s3.amazonaws.com/mnist/t10k-labels-idx1-ubyte.gz\n",
            "Downloading https://ossci-datasets.s3.amazonaws.com/mnist/t10k-labels-idx1-ubyte.gz to /content/dl_class/MNIST/raw/t10k-labels-idx1-ubyte.gz\n"
          ]
        },
        {
          "output_type": "stream",
          "name": "stderr",
          "text": [
            "100%|██████████| 4.54k/4.54k [00:00<00:00, 4.47MB/s]"
          ]
        },
        {
          "output_type": "stream",
          "name": "stdout",
          "text": [
            "Extracting /content/dl_class/MNIST/raw/t10k-labels-idx1-ubyte.gz to /content/dl_class/MNIST/raw\n",
            "\n"
          ]
        },
        {
          "output_type": "stream",
          "name": "stderr",
          "text": [
            "\n"
          ]
        }
      ]
    },
    {
      "cell_type": "code",
      "source": [
        "from torchvision import transforms\n",
        "\n",
        "custom_transform = transforms.Compose([transforms.ToTensor()])"
      ],
      "metadata": {
        "id": "4wbQtfAIqr17"
      },
      "execution_count": 5,
      "outputs": []
    },
    {
      "cell_type": "code",
      "source": [
        "train_dataset = torchvision.datasets.MNIST(root='/content/dl_class', train=True, download=True,transform=custom_transform)\n",
        "test_dataset = torchvision.datasets.MNIST(root='/content/dl_class', train=False, download=True,transform=custom_transform)"
      ],
      "metadata": {
        "id": "pNdwu_K6rWfH"
      },
      "execution_count": 6,
      "outputs": []
    },
    {
      "cell_type": "code",
      "source": [
        "print(f'train dataset size: {len(train_dataset)}')\n",
        "print(f'test dataset size: {len(test_dataset)}')"
      ],
      "metadata": {
        "colab": {
          "base_uri": "https://localhost:8080/"
        },
        "id": "X0H7DyQurs5F",
        "outputId": "0477f379-d0f3-411c-e4e8-c370e2912537"
      },
      "execution_count": 7,
      "outputs": [
        {
          "output_type": "stream",
          "name": "stdout",
          "text": [
            "train dataset size: 60000\n",
            "test dataset size: 10000\n"
          ]
        }
      ]
    },
    {
      "cell_type": "code",
      "source": [
        "train_loader = torch.utils.data.DataLoader(train_dataset, batch_size=32, shuffle=True)\n",
        "test_loader = torch.utils.data.DataLoader(test_dataset, batch_size=32, shuffle=True)"
      ],
      "metadata": {
        "id": "5M-TGuJksCrJ"
      },
      "execution_count": 8,
      "outputs": []
    },
    {
      "cell_type": "code",
      "source": [
        "sample1=iter(train_loader)"
      ],
      "metadata": {
        "id": "myn6ijRmsuet"
      },
      "execution_count": 9,
      "outputs": []
    },
    {
      "cell_type": "code",
      "source": [
        "sample_image,sample_label=next(sample1)\n"
      ],
      "metadata": {
        "id": "PqPQVHp6s840"
      },
      "execution_count": 10,
      "outputs": []
    },
    {
      "cell_type": "code",
      "source": [
        "import matplotlib.pyplot as plt\n",
        "for i in range(6):\n",
        "  plt.subplot(2,3,i+1)\n",
        "  plt.imshow(sample_image[i][0],cmap='gray')\n",
        "  plt.title(sample_label[i].item())\n"
      ],
      "metadata": {
        "colab": {
          "base_uri": "https://localhost:8080/",
          "height": 430
        },
        "id": "Vbs4Qudks_z2",
        "outputId": "d246287e-ce86-46a3-946a-f89b57761d7e"
      },
      "execution_count": 11,
      "outputs": [
        {
          "output_type": "display_data",
          "data": {
            "text/plain": [
              "<Figure size 640x480 with 6 Axes>"
            ],
            "image/png": "[encoded data removed]"
          },
          "metadata": {}
        }
      ]
    },
    {
      "cell_type": "code",
      "source": [
        "import torch.nn as nn"
      ],
      "metadata": {
        "id": "XP03NZ-Rtbcq"
      },
      "execution_count": 12,
      "outputs": []
    },
    {
      "cell_type": "code",
      "source": [
        "class MINIST_classfier(nn.Module):\n",
        "  def __init__(self):\n",
        "    super(MINIST_classfier,self).__init__()\n",
        "    self.layer1=nn.Linear(784,500)\n",
        "    self.sigmoid=nn.Sigmoid()\n",
        "    self.layer2=nn.Linear(500,10)\n",
        "    self.sigmoid=nn.Sigmoid()\n",
        "  def forward(self,x):\n",
        "    out1=self.layer1(x)\n",
        "    out2=self.sigmoid(out1)\n",
        "    out3=self.layer2(out2)\n",
        "    return out3"
      ],
      "metadata": {
        "id": "odqS0sw5xNtO"
      },
      "execution_count": 13,
      "outputs": []
    },
    {
      "cell_type": "code",
      "source": [
        "model = MINIST_classfier()"
      ],
      "metadata": {
        "id": "kJlSOfbsyoYI"
      },
      "execution_count": 14,
      "outputs": []
    },
    {
      "cell_type": "code",
      "source": [
        "model = model.to(\"cuda\")"
      ],
      "metadata": {
        "id": "KJdHRKFU_hHL"
      },
      "execution_count": 15,
      "outputs": []
    },
    {
      "cell_type": "code",
      "source": [
        "model"
      ],
      "metadata": {
        "colab": {
          "base_uri": "https://localhost:8080/"
        },
        "id": "FaxMt8p9-scY",
        "outputId": "50122814-9d66-4706-f293-e0b97ec0c84f"
      },
      "execution_count": 16,
      "outputs": [
        {
          "output_type": "execute_result",
          "data": {
            "text/plain": [
              "MINIST_classfier(\n",
              "  (layer1): Linear(in_features=784, out_features=500, bias=True)\n",
              "  (sigmoid): Sigmoid()\n",
              "  (layer2): Linear(in_features=500, out_features=10, bias=True)\n",
              ")"
            ]
          },
          "metadata": {},
          "execution_count": 16
        }
      ]
    },
    {
      "cell_type": "code",
      "source": [
        "print(model)"
      ],
      "metadata": {
        "colab": {
          "base_uri": "https://localhost:8080/"
        },
        "id": "IjNahQ9d0dqL",
        "outputId": "8bcaf27b-1504-4d1b-db6c-f90d0c562e71"
      },
      "execution_count": 17,
      "outputs": [
        {
          "output_type": "stream",
          "name": "stdout",
          "text": [
            "MINIST_classfier(\n",
            "  (layer1): Linear(in_features=784, out_features=500, bias=True)\n",
            "  (sigmoid): Sigmoid()\n",
            "  (layer2): Linear(in_features=500, out_features=10, bias=True)\n",
            ")\n"
          ]
        }
      ]
    },
    {
      "cell_type": "code",
      "source": [
        "criterion = nn.CrossEntropyLoss()\n",
        "optimizer = torch.optim.SGD(model.parameters(), lr=0.05)"
      ],
      "metadata": {
        "id": "NTnCIkkC227x"
      },
      "execution_count": 18,
      "outputs": []
    },
    {
      "cell_type": "code",
      "source": [
        "for epoch in range(30):\n",
        "  total_loss = 0\n",
        "  for (image,labels) in train_loader:\n",
        "\n",
        "    image = image.to(\"cuda\")\n",
        "    labels = labels.to(\"cuda\")\n",
        "    image = image.reshape(-1,784)\n",
        "    y_pred = model(image)\n",
        "    loss = criterion(y_pred,labels)\n",
        "    optimizer.zero_grad()\n",
        "    loss.backward()\n",
        "    optimizer.step()\n",
        "    total_loss += loss.item()\n",
        "  print(f'epoch: {epoch+1}, loss: {total_loss}')"
      ],
      "metadata": {
        "colab": {
          "base_uri": "https://localhost:8080/"
        },
        "id": "smfBX3ZG3DCZ",
        "outputId": "802ddbd3-4352-4804-aa91-7c0aaa2169ff"
      },
      "execution_count": 19,
      "outputs": [
        {
          "output_type": "stream",
          "name": "stdout",
          "text": [
            "epoch: 1, loss: 1580.123996719718\n",
            "epoch: 2, loss: 695.3976318761706\n",
            "epoch: 3, loss: 614.7048267871141\n",
            "epoch: 4, loss: 577.1470681875944\n",
            "epoch: 5, loss: 553.8567098006606\n",
            "epoch: 6, loss: 534.6768211703748\n",
            "epoch: 7, loss: 515.7718625608832\n",
            "epoch: 8, loss: 498.8806491866708\n",
            "epoch: 9, loss: 480.56185728125274\n",
            "epoch: 10, loss: 462.0264847110957\n",
            "epoch: 11, loss: 442.653568983078\n",
            "epoch: 12, loss: 423.6134660933167\n",
            "epoch: 13, loss: 404.83754837326705\n",
            "epoch: 14, loss: 386.8636277243495\n",
            "epoch: 15, loss: 369.005474653095\n",
            "epoch: 16, loss: 353.41641137190163\n",
            "epoch: 17, loss: 339.57662910968065\n",
            "epoch: 18, loss: 325.3410475002602\n",
            "epoch: 19, loss: 311.9950618389994\n",
            "epoch: 20, loss: 299.7126390589401\n",
            "epoch: 21, loss: 287.8111703218892\n",
            "epoch: 22, loss: 277.21837092004716\n",
            "epoch: 23, loss: 266.8213661517948\n",
            "epoch: 24, loss: 257.7426899038255\n",
            "epoch: 25, loss: 248.65708008408546\n",
            "epoch: 26, loss: 240.05250225961208\n",
            "epoch: 27, loss: 232.44149080850184\n",
            "epoch: 28, loss: 224.91177235450596\n",
            "epoch: 29, loss: 217.6308397874236\n",
            "epoch: 30, loss: 210.75471834046766\n"
          ]
        }
      ]
    },
    {
      "cell_type": "code",
      "source": [
        "model.eval()"
      ],
      "metadata": {
        "colab": {
          "base_uri": "https://localhost:8080/"
        },
        "id": "ERuwr8w-3sRA",
        "outputId": "3f673309-c306-4dea-b27a-7101b87c0667"
      },
      "execution_count": 20,
      "outputs": [
        {
          "output_type": "execute_result",
          "data": {
            "text/plain": [
              "MINIST_classfier(\n",
              "  (layer1): Linear(in_features=784, out_features=500, bias=True)\n",
              "  (sigmoid): Sigmoid()\n",
              "  (layer2): Linear(in_features=500, out_features=10, bias=True)\n",
              ")"
            ]
          },
          "metadata": {},
          "execution_count": 20
        }
      ]
    },
    {
      "cell_type": "code",
      "source": [
        "import numpy as np\n",
        "avg_acc=[]\n",
        "with torch.no_grad():\n",
        "  for (image_test,labels_test) in test_loader:\n",
        "    image_test = image_test.to('cuda')\n",
        "    labels_test = labels_test.to('cuda')\n",
        "    total_correct=0\n",
        "    n_sample=labels_test.size(0)\n",
        "    image_test = image_test.reshape(-1,784)\n",
        "    model_out = model(image_test)\n",
        "    pred_out = torch.argmax(model_out,dim=1)\n",
        "    total_correct = total_correct+ (pred_out == labels_test).sum().item()\n",
        "    accuracy = total_correct/n_sample*100\n",
        "    avg_acc.append(accuracy)"
      ],
      "metadata": {
        "id": "xytv-2r86Q6d"
      },
      "execution_count": 21,
      "outputs": []
    },
    {
      "cell_type": "code",
      "source": [
        "print(f'The model accuracy is {np.array(avg_acc).mean()}')"
      ],
      "metadata": {
        "id": "B3ejR5_g8qR7",
        "colab": {
          "base_uri": "https://localhost:8080/"
        },
        "outputId": "6d514e03-6cc4-4490-a970-3f1f1e2a20e9"
      },
      "execution_count": 22,
      "outputs": [
        {
          "output_type": "stream",
          "name": "stdout",
          "text": [
            "The model accuracy is 96.25599041533546\n"
          ]
        }
      ]
    },
    {
      "cell_type": "code",
      "source": [],
      "metadata": {
        "id": "jZ6K0bFx9L4T"
      },
      "execution_count": 22,
      "outputs": []
    }
  ]
}